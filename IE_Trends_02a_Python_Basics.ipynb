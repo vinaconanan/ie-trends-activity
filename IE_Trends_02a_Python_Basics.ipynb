{
  "nbformat": 4,
  "nbformat_minor": 0,
  "metadata": {
    "colab": {
      "name": "IE Trends 02a- Python Basics",
      "provenance": []
    },
    "kernelspec": {
      "name": "python3",
      "display_name": "Python 3"
    },
    "language_info": {
      "name": "python"
    }
  },
  "cells": [
    {
      "cell_type": "markdown",
      "metadata": {
        "id": "KxceYWn_cgFe"
      },
      "source": [
        "# Python Basics\n",
        "This section reviews programming fundamentals using Phyton"
      ]
    },
    {
      "cell_type": "code",
      "metadata": {
        "id": "13zohj09eI97"
      },
      "source": [
        ""
      ],
      "execution_count": null,
      "outputs": []
    },
    {
      "cell_type": "markdown",
      "metadata": {
        "id": "Ju9oTXKxe1EV"
      },
      "source": [
        "## Variables"
      ]
    },
    {
      "cell_type": "code",
      "metadata": {
        "id": "UUBx-CkOfDVo"
      },
      "source": [
        "x=10\n",
        "y=3.14\n"
      ],
      "execution_count": null,
      "outputs": []
    },
    {
      "cell_type": "markdown",
      "metadata": {
        "id": "uZWZei5VpYUX"
      },
      "source": [
        "## Printing"
      ]
    },
    {
      "cell_type": "code",
      "metadata": {
        "colab": {
          "base_uri": "https://localhost:8080/"
        },
        "id": "6yBRcNvspdzm",
        "outputId": "edd592e0-03bd-4550-e9f3-281142515208"
      },
      "source": [
        "print(x)"
      ],
      "execution_count": null,
      "outputs": [
        {
          "output_type": "stream",
          "text": [
            "10\n"
          ],
          "name": "stdout"
        }
      ]
    },
    {
      "cell_type": "markdown",
      "metadata": {
        "id": "FjzUEcrtq1fr"
      },
      "source": [
        "Operations"
      ]
    },
    {
      "cell_type": "code",
      "metadata": {
        "colab": {
          "base_uri": "https://localhost:8080/"
        },
        "id": "XDB5vv_jq3W9",
        "outputId": "43c84b62-2042-4101-e3b2-b724333a0ff3"
      },
      "source": [
        "## Addition (also a comment line)\n",
        "z1=x+y\n",
        "## Subract\n",
        "z2=x-y\n",
        "## Multiplication\n",
        "z3 = x*y\n",
        "## Division\n",
        "z4 = x/y\n",
        "z4"
      ],
      "execution_count": null,
      "outputs": [
        {
          "output_type": "execute_result",
          "data": {
            "text/plain": [
              "3.184713375796178"
            ]
          },
          "metadata": {
            "tags": []
          },
          "execution_count": 23
        }
      ]
    },
    {
      "cell_type": "markdown",
      "metadata": {
        "id": "R1tq8-vYtc1H"
      },
      "source": [
        "Coding$2^5$"
      ]
    },
    {
      "cell_type": "code",
      "metadata": {
        "colab": {
          "base_uri": "https://localhost:8080/"
        },
        "id": "qt7HPSbHtHMn",
        "outputId": "bbb1cbab-4e3a-4678-9c21-417f66f5f33c"
      },
      "source": [
        "## Exponentiation\n",
        "z5 = 2**5\n",
        "## Floor Division\n",
        "z6 = round(19/2)\n",
        "print(z6)\n",
        "## Trigonometric\n",
        "import math\n",
        "# math.sin(y) + math.cos(x)"
      ],
      "execution_count": null,
      "outputs": [
        {
          "output_type": "stream",
          "text": [
            "10\n"
          ],
          "name": "stdout"
        }
      ]
    },
    {
      "cell_type": "markdown",
      "metadata": {
        "id": "xfZy1xWWwMTj"
      },
      "source": [
        "$\\sin(y) + \\cos(x)$"
      ]
    },
    {
      "cell_type": "markdown",
      "metadata": {
        "id": "Pndx-apJxTPZ"
      },
      "source": [
        "### Loops"
      ]
    },
    {
      "cell_type": "markdown",
      "metadata": {
        "id": "rvrp4XJnypDB"
      },
      "source": [
        "$\\sin(i)+\\cos(i+\\pi)$"
      ]
    },
    {
      "cell_type": "code",
      "metadata": {
        "colab": {
          "base_uri": "https://localhost:8080/"
        },
        "id": "VgVIPsrWvtue",
        "outputId": "4980fb69-52b1-49ac-f5dd-faf8b98cd65a"
      },
      "source": [
        "## Summation\n",
        "tz=0\n",
        "for i in range(0,10): ##range(min,max) --> min to max-1\n",
        "  tz += math.sin(i) + math.cos(i+math.pi)\n",
        "  print(tz)"
      ],
      "execution_count": null,
      "outputs": [
        {
          "output_type": "stream",
          "text": [
            "-1.0\n",
            "-0.6988313210602433\n",
            "0.6266129423125808\n",
            "1.7577254469728933\n",
            "1.6545665725285772\n",
            "0.41198011240221266\n",
            "-0.827605672447079\n",
            "-0.9245213280715947\n",
            "0.2103369523604004\n",
            "1.533585699486834\n"
          ],
          "name": "stdout"
        }
      ]
    },
    {
      "cell_type": "markdown",
      "metadata": {
        "id": "gYPeZeQl1bGd"
      },
      "source": [
        "## Functions"
      ]
    },
    {
      "cell_type": "markdown",
      "metadata": {
        "id": "2TvNCJzs1oZc"
      },
      "source": [
        "$S - i^2$"
      ]
    },
    {
      "cell_type": "code",
      "metadata": {
        "id": "mudW__eJ1dML"
      },
      "source": [
        "s=0\n",
        "for i in range(0,10):\n",
        "  s+=i\n",
        "  print(equation1(s,i))"
      ],
      "execution_count": null,
      "outputs": []
    },
    {
      "cell_type": "code",
      "metadata": {
        "id": "a1asDUJJ2sE2"
      },
      "source": [
        "def equation1(s,i):\n",
        "  return s-i**2"
      ],
      "execution_count": null,
      "outputs": []
    }
  ]
}